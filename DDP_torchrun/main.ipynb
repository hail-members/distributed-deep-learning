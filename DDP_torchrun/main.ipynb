{
 "cells": [
  {
   "cell_type": "markdown",
   "id": "258ad7b6",
   "metadata": {},
   "source": [
    "# DistributedDataParallel (DDP)\n",
    "\n",
    "이전에는 `torch.nn.DataParallel`을 사용하여 구현했지만 이건 multithreading 쓰는 방법과 큰 차이가 없어서 결국 GIL의 영향을 받습니다.\n",
    "\n",
    "보통 multi GPU 환경에서 쓰기 위해서 쓰이는데, GPU 각각이 연산 slave 처럼 작동합니다만.. 이때도 역시 GIL 때문에 parameter server 가 되는 main GPU 혹은 CPU 에서 병목이 발생합니다.\n",
    "\n",
    "그래서 DDP 로 발전됐는데, 이 경우 완전히 multiprocessing 방식으로 작동하면서도, 각 프로세스가 독립적으로 GIL을 갖고 있으므로 병목이 없습니다.\n",
    "\n",
    "데이터를 복사해서 각각의 GPU에 넣는게 문제인데, 이건 또 각자가 직접 불러올 수 있는 형태의 dataloader를 사용하도록 변경되었습니다 `DistributedSampler` 라는 녀석을 사용합니다.\n",
    "\n",
    "\n",
    "이 과정이 일반적인 torch model 을 학습하는 방식과 거의 동일하게 할 수 있기 때문에 많이 사용하곤 합니다~\n",
    "\n",
    "\n"
   ]
  },
  {
   "cell_type": "code",
   "execution_count": 2,
   "id": "fb377590",
   "metadata": {},
   "outputs": [],
   "source": [
    "import os\n",
    "import argparse\n",
    "import torch\n",
    "import torch.nn as nn\n",
    "import torch.optim as optim\n",
    "from torchvision import datasets, transforms\n",
    "import torch.multiprocessing as mp # 그냥 multiprocessing 보다 다양한 통신 backend를 지원해서 빠름\n",
    "from torch.utils.data.distributed import DistributedSampler\n",
    "from torch.nn.parallel import DistributedDataParallel as DDP\n",
    "from torch.distributed import init_process_group, destroy_process_group"
   ]
  },
  {
   "cell_type": "markdown",
   "id": "be4e9913",
   "metadata": {},
   "source": [
    "## multi GPU / CPU"
   ]
  },
  {
   "cell_type": "code",
   "execution_count": 5,
   "id": "54ee092d",
   "metadata": {},
   "outputs": [],
   "source": [
    "def ddp_setup(rank: int, world_size: int, backend: str = \"nccl\"):\n",
    "   \"\"\"\n",
    "   Args:\n",
    "       rank: Unique identifier of each process\n",
    "       world_size: Total number of processes\n",
    "   \"\"\"\n",
    "   os.environ[\"MASTER_ADDR\"] = \"localhost\"\n",
    "   os.environ[\"MASTER_PORT\"] = \"12355\"\n",
    "   torch.cuda.set_device(rank)\n",
    "   init_process_group(backend=backend, rank=rank, world_size=world_size)\n",
    "   # 여기서 nccl 은 gpu 끼리 통신할 때 빠른 속도를 내기 위해서 사용하는 backend\n",
    "   # gloo 는 cpu 끼리 통신할 때 빠른 속도를 내기 위해서 사용하는 backend"
   ]
  },
  {
   "cell_type": "code",
   "execution_count": null,
   "id": "57d9f83c",
   "metadata": {},
   "outputs": [],
   "source": [
    "self.model = DDP(model, device_ids=[gpu_id])"
   ]
  },
  {
   "cell_type": "code",
   "execution_count": null,
   "id": "d85eadcf",
   "metadata": {},
   "outputs": [],
   "source": [
    "train_data = torch.utils.data.DataLoader(\n",
    "    dataset=train_dataset,\n",
    "    batch_size=32,\n",
    "    shuffle=False,  # We don't shuffle\n",
    "    sampler=DistributedSampler(train_dataset), # Use the Distributed Sampler here.\n",
    ")"
   ]
  },
  {
   "cell_type": "code",
   "execution_count": null,
   "id": "0003716b",
   "metadata": {},
   "outputs": [],
   "source": [
    "def _run_epoch(self, epoch):\n",
    "    b_sz = len(next(iter(self.train_data))[0])\n",
    "    self.train_data.sampler.set_epoch(epoch)   # call this additional line at every epoch\n",
    "    for source, targets in self.train_data:\n",
    "      ...\n",
    "      self._run_batch(source, targets)"
   ]
  },
  {
   "cell_type": "markdown",
   "id": "146ce60a",
   "metadata": {},
   "source": [
    "### training code (full)"
   ]
  },
  {
   "cell_type": "code",
   "execution_count": 7,
   "id": "675d20ec",
   "metadata": {},
   "outputs": [],
   "source": [
    "def ddp_setup(rank: int, world_size: int):\n",
    "    \"\"\"\n",
    "    CPU를 위한 DDP 설정 함수\n",
    "    \"\"\"\n",
    "    os.environ[\"MASTER_ADDR\"] = \"localhost\"\n",
    "    os.environ[\"MASTER_PORT\"] = \"12555\"\n",
    "    init_process_group(backend=\"gloo\", rank=rank, world_size=world_size)\n",
    "\n",
    "class MLP(nn.Module):\n",
    "    def __init__(self):\n",
    "        super(MLP, self).__init__()\n",
    "        self.fc1 = nn.Linear(28 * 28, 512)\n",
    "        self.fc2 = nn.Linear(512, 10)\n",
    "        self.relu = nn.ReLU()\n",
    "\n",
    "    def forward(self, x):\n",
    "        x = x.view(-1, 28 * 28)\n",
    "        x = self.relu(self.fc1(x))\n",
    "        x = self.fc2(x)\n",
    "        return x\n",
    "    \n",
    "class Trainer:\n",
    "    def __init__(\n",
    "        self,\n",
    "        model: nn.Module,\n",
    "        train_data: torch.utils.data.DataLoader,\n",
    "        optimizer: torch.optim.Optimizer,\n",
    "        rank: int, # 현재 프로세스의 랭크 (이전의 gpu_id 대체)\n",
    "        save_every: int,\n",
    "    ):\n",
    "        self.rank = rank\n",
    "        self.model = model # 모델은 CPU에 위치\n",
    "        self.train_data = train_data\n",
    "        self.optimizer = optimizer\n",
    "        self.save_every = save_every\n",
    "        self.epochs_run = 0\n",
    "        # DDP 모델로 감싸기 (device_ids 제거)\n",
    "        self.model = DDP(self.model)\n",
    "\n",
    "    def _run_batch(self, source, targets):\n",
    "        self.optimizer.zero_grad()\n",
    "        output = self.model(source)\n",
    "        loss = nn.CrossEntropyLoss()(output, targets)\n",
    "        loss.backward()\n",
    "        self.optimizer.step()\n",
    "\n",
    "    def _run_epoch(self, epoch):\n",
    "        self.train_data.sampler.set_epoch(epoch)\n",
    "        # 데이터는 이미 CPU에 있으므로 .to(device) 호출 불필요\n",
    "        for source, targets in self.train_data:\n",
    "            self._run_batch(source, targets)\n",
    "\n",
    "    def _save_checkpoint(self, epoch):\n",
    "        ckp = self.model.module.state_dict()\n",
    "        PATH = \"checkpoint.pt\"\n",
    "        torch.save(ckp, PATH)\n",
    "        print(f\"Epoch {epoch} | Training checkpoint saved at {PATH}\")\n",
    "\n",
    "    def train(self, max_epochs: int):\n",
    "        for epoch in range(max_epochs):\n",
    "            self._run_epoch(epoch)\n",
    "            # rank 0 프로세스만 체크포인트를 저장\n",
    "            if self.rank == 0 and (epoch + 1) % self.save_every == 0:\n",
    "                self._save_checkpoint(epoch + 1)\n",
    "                \n",
    "\n",
    "def prepare_dataloader(batch_size: int):\n",
    "    transform = transforms.Compose([\n",
    "        transforms.ToTensor(),\n",
    "        transforms.Normalize((0.1307,), (0.3081,))\n",
    "    ])\n",
    "    dataset = datasets.MNIST(root=\"./data\", train=True, download=True, transform=transform)\n",
    "    return torch.utils.data.DataLoader(\n",
    "        dataset,\n",
    "        batch_size=batch_size,\n",
    "        shuffle=False,\n",
    "        sampler=DistributedSampler(dataset)\n",
    "    )\n",
    "\n",
    "def main(rank: int, world_size: int, total_epochs: int, save_every: int, batch_size: int):\n",
    "    ddp_setup(rank, world_size)\n",
    "    \n",
    "    model = MLP()\n",
    "    optimizer = optim.SGD(model.parameters(), lr=1e-3)\n",
    "    train_data = prepare_dataloader(batch_size)\n",
    "    \n",
    "    print(f\"Rank {rank} 시작\")\n",
    "    \n",
    "    trainer = Trainer(model, train_data, optimizer, rank, save_every)\n",
    "    trainer.train(total_epochs)\n",
    "    \n",
    "    destroy_process_group()"
   ]
  },
  {
   "cell_type": "code",
   "execution_count": 8,
   "id": "d33c53c2",
   "metadata": {},
   "outputs": [
    {
     "name": "stdout",
     "output_type": "stream",
     "text": [
      "12개의 CPU 코어 존재\n"
     ]
    }
   ],
   "source": [
    "# Jupyter/Colab 환경을 위한 임시 args\n",
    "class Args:\n",
    "    total_epochs = 5\n",
    "    save_every = 2\n",
    "    batch_size = 32\n",
    "args = Args()\n",
    "\n",
    "# 사용 가능한 CPU 코어 수를 world_size로 설정 (전부를 다 쓰거나 일부만 쓸 수 있음)\n",
    "world_size = mp.cpu_count()\n",
    "print(f\"{world_size}개의 CPU 코어 존재\")\n",
    "\n",
    "# 사용 가능한 GPU 수를 world_size로 설정 (전부를 다 쓰거나 일부만 쓸 수 있음)\n",
    "# world_size = torch.cuda.device_count()\n",
    "# print(f\"{world_size}개의 GPU 존재\")"
   ]
  },
  {
   "cell_type": "code",
   "execution_count": 9,
   "id": "1ba92682",
   "metadata": {},
   "outputs": [
    {
     "name": "stdout",
     "output_type": "stream",
     "text": [
      "4개의 CPU 코어를 사용하여 훈련을 시작합니다.\n"
     ]
    },
    {
     "name": "stderr",
     "output_type": "stream",
     "text": [
      "W1015 22:56:42.452000 25964 torch\\multiprocessing\\spawn.py:169] Terminating process 17652 via signal SIGTERM\n",
      "W1015 22:56:42.454000 25964 torch\\multiprocessing\\spawn.py:169] Terminating process 25200 via signal SIGTERM\n",
      "W1015 22:56:42.455000 25964 torch\\multiprocessing\\spawn.py:169] Terminating process 14680 via signal SIGTERM\n"
     ]
    },
    {
     "ename": "ProcessExitedException",
     "evalue": "process 0 terminated with exit code 1",
     "output_type": "error",
     "traceback": [
      "\u001b[1;31m---------------------------------------------------------------------------\u001b[0m",
      "\u001b[1;31mProcessExitedException\u001b[0m                    Traceback (most recent call last)",
      "Cell \u001b[1;32mIn[9], line 4\u001b[0m\n\u001b[0;32m      1\u001b[0m world_size \u001b[38;5;241m=\u001b[39m \u001b[38;5;241m4\u001b[39m \u001b[38;5;66;03m# mp.cpu_count()\u001b[39;00m\n\u001b[0;32m      3\u001b[0m \u001b[38;5;28mprint\u001b[39m(\u001b[38;5;124mf\u001b[39m\u001b[38;5;124m\"\u001b[39m\u001b[38;5;132;01m{\u001b[39;00mworld_size\u001b[38;5;132;01m}\u001b[39;00m\u001b[38;5;124m개의 CPU 코어를 사용하여 훈련을 시작합니다.\u001b[39m\u001b[38;5;124m\"\u001b[39m)\n\u001b[1;32m----> 4\u001b[0m \u001b[43mmp\u001b[49m\u001b[38;5;241;43m.\u001b[39;49m\u001b[43mspawn\u001b[49m\u001b[43m(\u001b[49m\u001b[43mmain\u001b[49m\u001b[43m,\u001b[49m\u001b[43m \u001b[49m\u001b[43margs\u001b[49m\u001b[38;5;241;43m=\u001b[39;49m\u001b[43m(\u001b[49m\u001b[43mworld_size\u001b[49m\u001b[43m,\u001b[49m\u001b[43m \u001b[49m\u001b[43margs\u001b[49m\u001b[38;5;241;43m.\u001b[39;49m\u001b[43mtotal_epochs\u001b[49m\u001b[43m,\u001b[49m\u001b[43m \u001b[49m\u001b[43margs\u001b[49m\u001b[38;5;241;43m.\u001b[39;49m\u001b[43msave_every\u001b[49m\u001b[43m,\u001b[49m\u001b[43m \u001b[49m\u001b[43margs\u001b[49m\u001b[38;5;241;43m.\u001b[39;49m\u001b[43mbatch_size\u001b[49m\u001b[43m)\u001b[49m\u001b[43m,\u001b[49m\u001b[43m \u001b[49m\u001b[43mnprocs\u001b[49m\u001b[38;5;241;43m=\u001b[39;49m\u001b[43mworld_size\u001b[49m\u001b[43m)\u001b[49m\n\u001b[0;32m      5\u001b[0m \u001b[38;5;28mprint\u001b[39m(\u001b[38;5;124m\"\u001b[39m\u001b[38;5;124m모든 훈련 프로세스가 완료되었습니다.\u001b[39m\u001b[38;5;124m\"\u001b[39m)\n",
      "File \u001b[1;32m~\\AppData\\Roaming\\Python\\Python311\\site-packages\\torch\\multiprocessing\\spawn.py:340\u001b[0m, in \u001b[0;36mspawn\u001b[1;34m(fn, args, nprocs, join, daemon, start_method)\u001b[0m\n\u001b[0;32m    334\u001b[0m     msg \u001b[38;5;241m=\u001b[39m (\n\u001b[0;32m    335\u001b[0m         \u001b[38;5;124mf\u001b[39m\u001b[38;5;124m\"\u001b[39m\u001b[38;5;124mThis method only supports start_method=spawn (got: \u001b[39m\u001b[38;5;132;01m{\u001b[39;00mstart_method\u001b[38;5;132;01m}\u001b[39;00m\u001b[38;5;124m).\u001b[39m\u001b[38;5;130;01m\\n\u001b[39;00m\u001b[38;5;124m\"\u001b[39m\n\u001b[0;32m    336\u001b[0m         \u001b[38;5;124m\"\u001b[39m\u001b[38;5;124mTo use a different start_method use:\u001b[39m\u001b[38;5;130;01m\\n\u001b[39;00m\u001b[38;5;130;01m\\t\u001b[39;00m\u001b[38;5;130;01m\\t\u001b[39;00m\u001b[38;5;124m\"\u001b[39m\n\u001b[0;32m    337\u001b[0m         \u001b[38;5;124m\"\u001b[39m\u001b[38;5;124m torch.multiprocessing.start_processes(...)\u001b[39m\u001b[38;5;124m\"\u001b[39m\n\u001b[0;32m    338\u001b[0m     )\n\u001b[0;32m    339\u001b[0m     warnings\u001b[38;5;241m.\u001b[39mwarn(msg, \u001b[38;5;167;01mFutureWarning\u001b[39;00m, stacklevel\u001b[38;5;241m=\u001b[39m\u001b[38;5;241m2\u001b[39m)\n\u001b[1;32m--> 340\u001b[0m \u001b[38;5;28;01mreturn\u001b[39;00m \u001b[43mstart_processes\u001b[49m\u001b[43m(\u001b[49m\u001b[43mfn\u001b[49m\u001b[43m,\u001b[49m\u001b[43m \u001b[49m\u001b[43margs\u001b[49m\u001b[43m,\u001b[49m\u001b[43m \u001b[49m\u001b[43mnprocs\u001b[49m\u001b[43m,\u001b[49m\u001b[43m \u001b[49m\u001b[43mjoin\u001b[49m\u001b[43m,\u001b[49m\u001b[43m \u001b[49m\u001b[43mdaemon\u001b[49m\u001b[43m,\u001b[49m\u001b[43m \u001b[49m\u001b[43mstart_method\u001b[49m\u001b[38;5;241;43m=\u001b[39;49m\u001b[38;5;124;43m\"\u001b[39;49m\u001b[38;5;124;43mspawn\u001b[39;49m\u001b[38;5;124;43m\"\u001b[39;49m\u001b[43m)\u001b[49m\n",
      "File \u001b[1;32m~\\AppData\\Roaming\\Python\\Python311\\site-packages\\torch\\multiprocessing\\spawn.py:296\u001b[0m, in \u001b[0;36mstart_processes\u001b[1;34m(fn, args, nprocs, join, daemon, start_method)\u001b[0m\n\u001b[0;32m    293\u001b[0m     \u001b[38;5;28;01mreturn\u001b[39;00m context\n\u001b[0;32m    295\u001b[0m \u001b[38;5;66;03m# Loop on join until it returns True or raises an exception.\u001b[39;00m\n\u001b[1;32m--> 296\u001b[0m \u001b[38;5;28;01mwhile\u001b[39;00m \u001b[38;5;129;01mnot\u001b[39;00m \u001b[43mcontext\u001b[49m\u001b[38;5;241;43m.\u001b[39;49m\u001b[43mjoin\u001b[49m\u001b[43m(\u001b[49m\u001b[43m)\u001b[49m:\n\u001b[0;32m    297\u001b[0m     \u001b[38;5;28;01mpass\u001b[39;00m\n",
      "File \u001b[1;32m~\\AppData\\Roaming\\Python\\Python311\\site-packages\\torch\\multiprocessing\\spawn.py:204\u001b[0m, in \u001b[0;36mProcessContext.join\u001b[1;34m(self, timeout, grace_period)\u001b[0m\n\u001b[0;32m    196\u001b[0m         \u001b[38;5;28;01mraise\u001b[39;00m ProcessExitedException(\n\u001b[0;32m    197\u001b[0m             \u001b[38;5;124mf\u001b[39m\u001b[38;5;124m\"\u001b[39m\u001b[38;5;124mprocess \u001b[39m\u001b[38;5;132;01m{\u001b[39;00merror_index\u001b[38;5;132;01m:\u001b[39;00m\u001b[38;5;124md\u001b[39m\u001b[38;5;132;01m}\u001b[39;00m\u001b[38;5;124m terminated with signal \u001b[39m\u001b[38;5;132;01m{\u001b[39;00mname\u001b[38;5;132;01m}\u001b[39;00m\u001b[38;5;124m\"\u001b[39m,\n\u001b[0;32m    198\u001b[0m             error_index\u001b[38;5;241m=\u001b[39merror_index,\n\u001b[1;32m   (...)\u001b[0m\n\u001b[0;32m    201\u001b[0m             signal_name\u001b[38;5;241m=\u001b[39mname,\n\u001b[0;32m    202\u001b[0m         )\n\u001b[0;32m    203\u001b[0m     \u001b[38;5;28;01melse\u001b[39;00m:\n\u001b[1;32m--> 204\u001b[0m         \u001b[38;5;28;01mraise\u001b[39;00m ProcessExitedException(\n\u001b[0;32m    205\u001b[0m             \u001b[38;5;124mf\u001b[39m\u001b[38;5;124m\"\u001b[39m\u001b[38;5;124mprocess \u001b[39m\u001b[38;5;132;01m{\u001b[39;00merror_index\u001b[38;5;132;01m:\u001b[39;00m\u001b[38;5;124md\u001b[39m\u001b[38;5;132;01m}\u001b[39;00m\u001b[38;5;124m terminated with exit code \u001b[39m\u001b[38;5;132;01m{\u001b[39;00mexitcode\u001b[38;5;132;01m:\u001b[39;00m\u001b[38;5;124md\u001b[39m\u001b[38;5;132;01m}\u001b[39;00m\u001b[38;5;124m\"\u001b[39m,\n\u001b[0;32m    206\u001b[0m             error_index\u001b[38;5;241m=\u001b[39merror_index,\n\u001b[0;32m    207\u001b[0m             error_pid\u001b[38;5;241m=\u001b[39mfailed_process\u001b[38;5;241m.\u001b[39mpid,\n\u001b[0;32m    208\u001b[0m             exit_code\u001b[38;5;241m=\u001b[39mexitcode,\n\u001b[0;32m    209\u001b[0m         )\n\u001b[0;32m    211\u001b[0m \u001b[38;5;28;01mwith\u001b[39;00m \u001b[38;5;28mopen\u001b[39m(\u001b[38;5;28mself\u001b[39m\u001b[38;5;241m.\u001b[39merror_files[error_index], \u001b[38;5;124m\"\u001b[39m\u001b[38;5;124mrb\u001b[39m\u001b[38;5;124m\"\u001b[39m) \u001b[38;5;28;01mas\u001b[39;00m fh:\n\u001b[0;32m    212\u001b[0m     original_trace \u001b[38;5;241m=\u001b[39m pickle\u001b[38;5;241m.\u001b[39mload(fh)\n",
      "\u001b[1;31mProcessExitedException\u001b[0m: process 0 terminated with exit code 1"
     ]
    }
   ],
   "source": [
    "world_size = 4 # mp.cpu_count()\n",
    "\n",
    "print(f\"{world_size}개의 CPU 코어를 사용하여 훈련을 시작합니다.\")\n",
    "mp.spawn(main, args=(world_size, args.total_epochs, args.save_every, args.batch_size), nprocs=world_size)\n",
    "print(\"모든 훈련 프로세스가 완료되었습니다.\")"
   ]
  },
  {
   "cell_type": "markdown",
   "id": "efd95ac8",
   "metadata": {},
   "source": [
    "## AllReduce\n"
   ]
  },
  {
   "cell_type": "code",
   "execution_count": null,
   "id": "3ed17c34",
   "metadata": {},
   "outputs": [],
   "source": []
  }
 ],
 "metadata": {
  "kernelspec": {
   "display_name": ".conda",
   "language": "python",
   "name": "python3"
  },
  "language_info": {
   "codemirror_mode": {
    "name": "ipython",
    "version": 3
   },
   "file_extension": ".py",
   "mimetype": "text/x-python",
   "name": "python",
   "nbconvert_exporter": "python",
   "pygments_lexer": "ipython3",
   "version": "3.11.10"
  }
 },
 "nbformat": 4,
 "nbformat_minor": 5
}
